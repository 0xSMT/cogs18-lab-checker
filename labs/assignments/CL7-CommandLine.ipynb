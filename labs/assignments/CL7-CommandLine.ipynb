{
 "cells": [
  {
   "cell_type": "markdown",
   "metadata": {
    "deletable": false,
    "editable": false,
    "nbgrader": {
     "cell_type": "markdown",
     "checksum": "183f770d714f707205725cc34b4c3dde",
     "grade": false,
     "grade_id": "cell-695e601f026b86f0",
     "locked": true,
     "schema_version": 3,
     "solution": false
    }
   },
   "source": [
    "# CL7: Command Line\n",
    "\n",
    "Welcome to the seventh coding lab! \n",
    "\n",
    "In this CodingLab we will be working with the command line, and with python files (module files and scripts). \n",
    "\n",
    "While this _may_ feel like busy work, understanding and completing this coding lab will be essential when it comes time for your project/final exam. Do your very best to complete all parts of this CodingLab!"
   ]
  },
  {
   "cell_type": "markdown",
   "metadata": {
    "deletable": false,
    "editable": false,
    "nbgrader": {
     "cell_type": "markdown",
     "checksum": "6e7fc111bec015d5baf2ec6a27163bb8",
     "grade": false,
     "grade_id": "cell-664df31c0ba3c2d4",
     "locked": true,
     "schema_version": 3,
     "solution": false
    }
   },
   "source": [
    "## Part I: Command Line\n",
    "\n",
    "Open a terminal from the Jupyter notebook server (either on your local computer or datahub), and do the following:\n",
    "\n",
    "- Navigate to your home directory on datahub\n",
    "- Make a new directory\n",
    "- Move inside that directory\n",
    "- Create a new Python file\n",
    "- Open the file (this may be from the Files tab on datahub)\n",
    "- Write some Python code inside that file\n",
    "    - For example: print('Hello World')\n",
    "- Save the file (and return to the terminal)\n",
    "- Execute the Python file from the terminal"
   ]
  },
  {
   "cell_type": "markdown",
   "metadata": {},
   "source": [
    "To launch a terminal in Datahub, consult the following screenshot (Click the Files tab, then click New, then click Terminal)\n",
    "\n",
    "![(How to Click New Terminal Button)](terminal-screenshot.png)"
   ]
  },
  {
   "cell_type": "markdown",
   "metadata": {},
   "source": [
    "Describe your success/struggles/failures with the above steps here (These are notes to yourself/meant to describe to staff what you did here. This *will likely* be copy + paste of the code you typed into the terminal or just notes to yourself/staff describing what you learned/where you struggled.):\n"
   ]
  },
  {
   "cell_type": "markdown",
   "metadata": {},
   "source": [
    "--EDIT THIS CELL AND WRITE YOUR NOTES HERE--"
   ]
  },
  {
   "cell_type": "markdown",
   "metadata": {
    "deletable": false,
    "editable": false,
    "nbgrader": {
     "cell_type": "markdown",
     "checksum": "763439949423309d5ea6fd05b0ddb877",
     "grade": false,
     "grade_id": "cell-548c2344b57bdd87",
     "locked": true,
     "schema_version": 3,
     "solution": false
    }
   },
   "source": [
    "## Part II: Module Files\n",
    "\n",
    "First, in the notebook below, do the following:\n",
    "\n",
    "- Write at least one new Class\n",
    "    - Make sure there is at least one method in the class that returns something/prints something out\n",
    "- Write two new functions, that do something with instances of your new class(es)\n",
    "    - For example, take a list of custom objects, and call a method on each one"
   ]
  },
  {
   "cell_type": "code",
   "execution_count": null,
   "metadata": {
    "deletable": false,
    "nbgrader": {
     "cell_type": "code",
     "checksum": "7ef670654b32ec23e3325d283567c61f",
     "grade": false,
     "grade_id": "cell-675a19a968584510",
     "locked": false,
     "schema_version": 3,
     "solution": true
    }
   },
   "outputs": [],
   "source": [
    "# your code here"
   ]
  },
  {
   "cell_type": "code",
   "execution_count": null,
   "metadata": {
    "deletable": false,
    "nbgrader": {
     "cell_type": "code",
     "checksum": "163b920c9553b79ca499c67a0ac3197e",
     "grade": false,
     "grade_id": "cell-86a1f143fe528238",
     "locked": false,
     "schema_version": 3,
     "solution": true
    }
   },
   "outputs": [],
   "source": [
    "# your code here"
   ]
  },
  {
   "cell_type": "markdown",
   "metadata": {
    "deletable": false,
    "editable": false,
    "nbgrader": {
     "cell_type": "markdown",
     "checksum": "dc07151a66eda0db18b6c826cdd26c09",
     "grade": false,
     "grade_id": "cell-b2ef8fc67dc9d745",
     "locked": true,
     "schema_version": 3,
     "solution": false
    }
   },
   "source": [
    "Next, we are going to move this code to an external file - a Python module file.\n",
    "\n",
    "- Open a new text file, from the Jupyter server page\n",
    "- Copy your classes and functions into that file\n",
    "- Save that file, with some name that you give it, and a '.py' extension\n",
    "- Now, import the classes and functions from that file into this notebook, and check that you can use them. "
   ]
  },
  {
   "cell_type": "code",
   "execution_count": null,
   "metadata": {
    "deletable": false,
    "nbgrader": {
     "cell_type": "code",
     "checksum": "4fb6752909f17c6b3cf132ae29e1ebe5",
     "grade": false,
     "grade_id": "cell-6085d828ccc8a2f3",
     "locked": false,
     "schema_version": 3,
     "solution": true
    }
   },
   "outputs": [],
   "source": [
    "# your code here"
   ]
  },
  {
   "cell_type": "markdown",
   "metadata": {
    "deletable": false,
    "editable": false,
    "nbgrader": {
     "cell_type": "markdown",
     "checksum": "616ae15abd499fe1b137d24c8ca8f67a",
     "grade": false,
     "grade_id": "cell-dbf22ebdae23df78",
     "locked": true,
     "schema_version": 3,
     "solution": false
    }
   },
   "source": [
    "## Part III: Python Scripts\n",
    "\n",
    "Now write a small script that imports from your module file, and uses that code to do something.\n",
    "\n",
    "To do so, start with the new text file. It should import your classes and functions from the file you made above. Then, use these functions and classes to do something (write some Python code that does something with these objects). Save your file with a '.py' extension, and then execute it from the terminal. Document the command you used to run this file, and the output it produced."
   ]
  },
  {
   "cell_type": "code",
   "execution_count": null,
   "metadata": {
    "deletable": false,
    "nbgrader": {
     "cell_type": "code",
     "checksum": "1de167c6b1f89c5d5f0e3bc07b01e754",
     "grade": false,
     "grade_id": "cell-449d77be79b3fff3",
     "locked": false,
     "schema_version": 3,
     "solution": true
    }
   },
   "outputs": [],
   "source": [
    "# your code here"
   ]
  },
  {
   "cell_type": "markdown",
   "metadata": {},
   "source": [
    "-- DOCUMENT THE COMMAND YOU RAN AND THE OUTPUT IT PRODUCED --"
   ]
  },
  {
   "cell_type": "markdown",
   "metadata": {
    "deletable": false,
    "editable": false,
    "nbgrader": {
     "cell_type": "markdown",
     "checksum": "8c955cb135f69176e3ca477179d44a16",
     "grade": false,
     "grade_id": "cell-f7ccbf88f9481134",
     "locked": true,
     "schema_version": 3,
     "solution": false
    }
   },
   "source": [
    "## The End!\n",
    "\n",
    "This is the end of this Coding Lab!\n",
    "\n",
    "Be sure you've made a concerted effort to complete all the tasks specified in this lab. Then, go ahead and submit on datahub!"
   ]
  }
 ],
 "metadata": {
  "kernelspec": {
   "display_name": "Python 3 (ipykernel)",
   "language": "python",
   "name": "python3"
  },
  "language_info": {
   "codemirror_mode": {
    "name": "ipython",
    "version": 3
   },
   "file_extension": ".py",
   "mimetype": "text/x-python",
   "name": "python",
   "nbconvert_exporter": "python",
   "pygments_lexer": "ipython3",
   "version": "3.9.5"
  }
 },
 "nbformat": 4,
 "nbformat_minor": 2
}
