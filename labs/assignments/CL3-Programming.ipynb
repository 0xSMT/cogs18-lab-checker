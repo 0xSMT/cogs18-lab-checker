{
 "cells": [
  {
   "cell_type": "markdown",
   "metadata": {
    "deletable": false,
    "editable": false,
    "nbgrader": {
     "cell_type": "markdown",
     "checksum": "1942f8f6c9bf48004a52024102e1b667",
     "grade": false,
     "grade_id": "cell-ca3241d68f4e5bda",
     "locked": true,
     "schema_version": 3,
     "solution": false
    }
   },
   "source": [
    "# Coding Lab 3: Programming II\n",
    "\n",
    "Welcome to the third coding lab!\n",
    "\n",
    "CodingLab labs are meant to be interactive - so find another person to work together with on this notebook if you're able.\n",
    "\n",
    "CodingLabs are also meant to be exploratory. There are broad questions in the notebook that you should explore, and try to answer - but you are also very much encouraged to explore other related ideas as you go! \n",
    "\n",
    "If you have a question about how something works / what something does - try it out, and see what happens!"
   ]
  },
  {
   "cell_type": "markdown",
   "metadata": {
    "deletable": false,
    "editable": false,
    "nbgrader": {
     "cell_type": "markdown",
     "checksum": "0eb9482414fa78b120202f2c867310a4",
     "grade": false,
     "grade_id": "cell-9c4a6e76457e664e",
     "locked": true,
     "schema_version": 3,
     "solution": false
    }
   },
   "source": [
    "## Part 1: Functions\n",
    "\n",
    "Functions are a way to organize code into a procedure that we can repeat and use whenever we want. "
   ]
  },
  {
   "cell_type": "markdown",
   "metadata": {
    "deletable": false,
    "editable": false,
    "nbgrader": {
     "cell_type": "markdown",
     "checksum": "1e45e08bb829451a85fa74190ad0237e",
     "grade": false,
     "grade_id": "cell-b9e386bfc3490e7c",
     "locked": true,
     "schema_version": 3,
     "solution": false
    }
   },
   "source": [
    "### Function Questions"
   ]
  },
  {
   "cell_type": "markdown",
   "metadata": {
    "deletable": false,
    "editable": false,
    "nbgrader": {
     "cell_type": "markdown",
     "checksum": "4c712d725cd0c110b479e004981f9b65",
     "grade": false,
     "grade_id": "cell-b2831adfe726b342",
     "locked": true,
     "schema_version": 3,
     "solution": false
    }
   },
   "source": [
    "#### Write a function \n",
    "\n",
    "Write a function `mult_two` that takes one input, multiplies it by two and returns the result"
   ]
  },
  {
   "cell_type": "code",
   "execution_count": null,
   "metadata": {
    "deletable": false,
    "nbgrader": {
     "cell_type": "code",
     "checksum": "4313bc4bf33be1a0e04647f34429fcfd",
     "grade": false,
     "grade_id": "cell-8d0f3557ad318843",
     "locked": false,
     "schema_version": 3,
     "solution": true
    }
   },
   "outputs": [],
   "source": [
    "# your code here\n",
    "raise NotImplementedError"
   ]
  },
  {
   "cell_type": "code",
   "execution_count": null,
   "metadata": {},
   "outputs": [],
   "source": [
    "# Check that you can use the function\n",
    "mult_two(2)"
   ]
  },
  {
   "cell_type": "code",
   "execution_count": null,
   "metadata": {
    "deletable": false,
    "editable": false,
    "nbgrader": {
     "cell_type": "code",
     "checksum": "520b097cba17ed2982c1cd8672cca393",
     "grade": true,
     "grade_id": "cell-0c88c4b83c2c9f6b",
     "locked": true,
     "points": 0,
     "schema_version": 3,
     "solution": false
    }
   },
   "outputs": [],
   "source": [
    "# Check this function returns the correct outputs\n",
    "assert mult_two(2) == 4\n",
    "assert mult_two(3) == 6"
   ]
  },
  {
   "cell_type": "markdown",
   "metadata": {
    "deletable": false,
    "editable": false,
    "nbgrader": {
     "cell_type": "markdown",
     "checksum": "e09f59d5216b3be63d55d2b087c10617",
     "grade": false,
     "grade_id": "cell-a8c64fa304d0f0b1",
     "locked": true,
     "schema_version": 3,
     "solution": false
    }
   },
   "source": [
    "#### Write a function that takes two inputs, adds them together, and returns the result\n",
    "\n",
    "Call this function `add_two`."
   ]
  },
  {
   "cell_type": "code",
   "execution_count": null,
   "metadata": {
    "deletable": false,
    "nbgrader": {
     "cell_type": "code",
     "checksum": "5ac7d450928977b30529c083036ece38",
     "grade": false,
     "grade_id": "cell-bc8d2072710911df",
     "locked": false,
     "schema_version": 3,
     "solution": true
    }
   },
   "outputs": [],
   "source": [
    "# your code here\n",
    "raise NotImplementedError"
   ]
  },
  {
   "cell_type": "code",
   "execution_count": null,
   "metadata": {},
   "outputs": [],
   "source": [
    "# Check that you can use the function\n",
    "add_two(2, 2)"
   ]
  },
  {
   "cell_type": "code",
   "execution_count": null,
   "metadata": {
    "deletable": false,
    "editable": false,
    "nbgrader": {
     "cell_type": "code",
     "checksum": "998415bca39e0053b1db386bcd3bfec0",
     "grade": true,
     "grade_id": "cell-20f5706f33ded922",
     "locked": true,
     "points": 0,
     "schema_version": 3,
     "solution": false
    }
   },
   "outputs": [],
   "source": [
    "# Check this function returns the correct number\n",
    "assert add_two(2, 2) == 4\n",
    "assert add_two(3, 2) == 5"
   ]
  },
  {
   "cell_type": "markdown",
   "metadata": {
    "deletable": false,
    "editable": false,
    "nbgrader": {
     "cell_type": "markdown",
     "checksum": "d3ccfed8b068824d32fdb21f8856e5a7",
     "grade": false,
     "grade_id": "cell-f9deb6d22595e66d",
     "locked": true,
     "schema_version": 3,
     "solution": false
    }
   },
   "source": [
    "#### Write a function with a conditional inside it\n",
    "\n",
    "You can decide what this function does. \n",
    "\n",
    "It could, for example, take in a boolean and print out a status if the given boolean is True. "
   ]
  },
  {
   "cell_type": "code",
   "execution_count": null,
   "metadata": {
    "deletable": false,
    "nbgrader": {
     "cell_type": "code",
     "checksum": "333eccd293ea5e5d804fb30aa2af815a",
     "grade": false,
     "grade_id": "cell-15f562b1e86720bc",
     "locked": false,
     "schema_version": 3,
     "solution": true
    }
   },
   "outputs": [],
   "source": [
    "# your code here\n",
    "raise NotImplementedError"
   ]
  },
  {
   "cell_type": "code",
   "execution_count": null,
   "metadata": {},
   "outputs": [],
   "source": [
    "# you can test out your function down here..."
   ]
  },
  {
   "cell_type": "markdown",
   "metadata": {
    "deletable": false,
    "editable": false,
    "nbgrader": {
     "cell_type": "markdown",
     "checksum": "9c0be9585dbf87268ad8677b190bfb8c",
     "grade": false,
     "grade_id": "cell-f3ec739e1f7280e1",
     "locked": true,
     "schema_version": 3,
     "solution": false
    }
   },
   "source": [
    "## Part 2: Conditionals\n",
    "\n",
    "Conditionals a form of control flow for executing certain code if a specific condition is met. "
   ]
  },
  {
   "cell_type": "markdown",
   "metadata": {
    "deletable": false,
    "editable": false,
    "nbgrader": {
     "cell_type": "markdown",
     "checksum": "7434dce74df857224739283a2c59ad50",
     "grade": false,
     "grade_id": "cell-10ba65d028d661db",
     "locked": true,
     "schema_version": 3,
     "solution": false
    }
   },
   "source": [
    "### Conditional Questions\n",
    "\n",
    "In this part, we will re-visit some questions about conditionals, and start combining them together with collections. \n",
    "\n",
    "Make sure you can use if/elif/else statements to control which code blocks are run."
   ]
  },
  {
   "cell_type": "markdown",
   "metadata": {
    "deletable": false,
    "editable": false,
    "nbgrader": {
     "cell_type": "markdown",
     "checksum": "a5e1f4820d8d836ef9d3a58ac404d345",
     "grade": false,
     "grade_id": "cell-ea19003c9e552e2c",
     "locked": true,
     "schema_version": 3,
     "solution": false
    }
   },
   "source": [
    "#### Controlling Output With Conditionals I\n",
    "\n",
    "Using the code below, keep updating the variable value to make sure you can make the conditional return each of the possibilities. "
   ]
  },
  {
   "cell_type": "code",
   "execution_count": null,
   "metadata": {},
   "outputs": [],
   "source": [
    "# ToDo: Update value to control what gets executed\n",
    "value = 10\n",
    "\n",
    "# This code provided\n",
    "if type(value) == int:\n",
    "    if value < 10:\n",
    "        result = 'small value'\n",
    "    if value >= 10:\n",
    "        result = 'big value'\n",
    "else:\n",
    "    result = 'false value'"
   ]
  },
  {
   "cell_type": "code",
   "execution_count": null,
   "metadata": {},
   "outputs": [],
   "source": [
    "print(result)"
   ]
  },
  {
   "cell_type": "markdown",
   "metadata": {
    "deletable": false,
    "editable": false,
    "nbgrader": {
     "cell_type": "markdown",
     "checksum": "fdc8bf90c689e0c590cb50b7b13e328b",
     "grade": false,
     "grade_id": "cell-d81071bf177a257b",
     "locked": true,
     "schema_version": 3,
     "solution": false
    }
   },
   "source": [
    "#### Controlling Output With Conditionals II\n",
    "\n",
    "In the cell below, first write something into each `result` assignment string below. For example, it could be something like: \"B1 is False & B2 is True\"). \n",
    "\n",
    "Then make sure you can change values of `b1` & `b2` to make the program execute each option. "
   ]
  },
  {
   "cell_type": "code",
   "execution_count": null,
   "metadata": {},
   "outputs": [],
   "source": [
    "# ToDo: Update strings stored in result to control what gets executed\n",
    "b1 = False\n",
    "b2 = False\n",
    "\n",
    "# Next, try this out\n",
    "if b1 and not b2:\n",
    "    result = ''\n",
    "elif not b1 and b2:\n",
    "    result = ''\n",
    "elif b1 and b2:\n",
    "    result = ''\n",
    "else:\n",
    "    result = ''"
   ]
  },
  {
   "cell_type": "code",
   "execution_count": null,
   "metadata": {
    "deletable": false,
    "nbgrader": {
     "cell_type": "code",
     "checksum": "81ee370caa731f1000d968ccdd2d8e05",
     "grade": true,
     "grade_id": "cell-7519e145b765f199",
     "locked": false,
     "points": 0,
     "schema_version": 3,
     "solution": true
    }
   },
   "outputs": [],
   "source": [
    "# your code here\n",
    "raise NotImplementedError"
   ]
  },
  {
   "cell_type": "code",
   "execution_count": null,
   "metadata": {},
   "outputs": [],
   "source": [
    "print(result)"
   ]
  },
  {
   "cell_type": "markdown",
   "metadata": {
    "deletable": false,
    "editable": false,
    "nbgrader": {
     "cell_type": "markdown",
     "checksum": "4a00298cbb99ca2762c22cad990eda0b",
     "grade": false,
     "grade_id": "cell-a73ff0b314b6695f",
     "locked": true,
     "schema_version": 3,
     "solution": false
    }
   },
   "source": [
    "### Conditional Challenges\n",
    "\n",
    "The following are more challenging questions relating to conditional statements. If they seem too tricky for now, just skip ahead to the next section."
   ]
  },
  {
   "cell_type": "markdown",
   "metadata": {
    "deletable": false,
    "editable": false,
    "nbgrader": {
     "cell_type": "markdown",
     "checksum": "7410563cab59c9bdc2a1cd60389b0a41",
     "grade": false,
     "grade_id": "cell-748c8c618a0e5f09",
     "locked": true,
     "schema_version": 3,
     "solution": false
    }
   },
   "source": [
    "#### Conditional Challenge #1\n",
    "\n",
    "Write a conditional that prints \"Found it\" if a given `val_2` is a multiple of 10, otherwise prints \"Nope.\""
   ]
  },
  {
   "cell_type": "code",
   "execution_count": null,
   "metadata": {
    "deletable": false,
    "nbgrader": {
     "cell_type": "code",
     "checksum": "7474a0455fbf8fdd4bbc3def38cd9688",
     "grade": true,
     "grade_id": "cell-06a11971a3797aee",
     "locked": false,
     "points": 0,
     "schema_version": 3,
     "solution": true
    }
   },
   "outputs": [],
   "source": [
    "# your code here\n",
    "raise NotImplementedError"
   ]
  },
  {
   "cell_type": "markdown",
   "metadata": {
    "deletable": false,
    "editable": false,
    "nbgrader": {
     "cell_type": "markdown",
     "checksum": "a1a4fad46c2e8401c420e8dee08d9bda",
     "grade": false,
     "grade_id": "cell-88e23d455b53e62f",
     "locked": true,
     "schema_version": 3,
     "solution": false
    }
   },
   "source": [
    "#### Conditional Challenge #2\n",
    "\n",
    "Input: assumes a variable `val_1`, that can be either a string or an integer\n",
    "\n",
    "Output: based on the conditions, this code block will assign a variable called `output` to be a boolean\n",
    "\n",
    "Use conditions to check whether `val_1` is a string or an integer object:\n",
    "- If it is a string, check whether it's length is greater then 8\n",
    "    - If so, set the value `output` to True\n",
    "- If it is an integer, compare whether it is less than 100\n",
    "    - If so, set the value `output` to True\n",
    "- Else, set `output` to False"
   ]
  },
  {
   "cell_type": "code",
   "execution_count": null,
   "metadata": {
    "deletable": false,
    "nbgrader": {
     "cell_type": "code",
     "checksum": "f865d6f96a83253e7734032813271184",
     "grade": false,
     "grade_id": "cell-38dd8c5cdb1eceeb",
     "locked": false,
     "schema_version": 3,
     "solution": true
    }
   },
   "outputs": [],
   "source": [
    "# your code here\n",
    "raise NotImplementedError"
   ]
  },
  {
   "cell_type": "code",
   "execution_count": null,
   "metadata": {
    "deletable": false,
    "editable": false,
    "nbgrader": {
     "cell_type": "code",
     "checksum": "0fa33f906c309b79aa45bdfe74f7a390",
     "grade": true,
     "grade_id": "cell-63589ce9ea4d9c55",
     "locked": true,
     "points": 0,
     "schema_version": 3,
     "solution": false
    }
   },
   "outputs": [],
   "source": [
    "assert type(output) == bool"
   ]
  },
  {
   "cell_type": "markdown",
   "metadata": {
    "deletable": false,
    "editable": false,
    "nbgrader": {
     "cell_type": "markdown",
     "checksum": "9937b36a3ac78e3edda594128917c7d1",
     "grade": false,
     "grade_id": "cell-c94393359fdc24ff",
     "locked": true,
     "schema_version": 3,
     "solution": false
    }
   },
   "source": [
    "### Operator Explorations\n",
    "\n",
    "For each of the following questions, start by writing out a guess of what you think it might do. \n",
    "\n",
    "Then, test out each one by writing out some code. \n",
    "\n",
    "Finally, once you have answered the question, using some code, add a comment in the markdown here with the answer. \n",
    "\n",
    "Questions:\n",
    "- Can you include multiple conditions in an if statement?\n",
    "    - If think so, write an if statement that tests multiple conditions.\n",
    "- What happens if you put an if statement inside an if statement? When would such a statement run?\n",
    "    - To explore this, write an if statement that has an embedded if statement in it. \n"
   ]
  },
  {
   "cell_type": "code",
   "execution_count": null,
   "metadata": {
    "deletable": false,
    "nbgrader": {
     "cell_type": "code",
     "checksum": "dff9134c556ab3318d88356e11848e2d",
     "grade": true,
     "grade_id": "cell-cacaa89e60a670db",
     "locked": false,
     "points": 0,
     "schema_version": 3,
     "solution": true
    }
   },
   "outputs": [],
   "source": [
    "# your code here\n",
    "raise NotImplementedError"
   ]
  },
  {
   "cell_type": "markdown",
   "metadata": {
    "deletable": false,
    "editable": false,
    "nbgrader": {
     "cell_type": "markdown",
     "checksum": "996b4bb421dfd7a69087f24352f5ea06",
     "grade": false,
     "grade_id": "cell-5232a4181069f8a7",
     "locked": true,
     "schema_version": 3,
     "solution": false
    }
   },
   "source": [
    "## (Bonus) PseudoCode\n",
    "\n",
    "First, let's briefly consider the idea of pseudocode. \n",
    "\n",
    "Pseudocode is an informal, 'high-level' sketch or description of a program or algorithm. \n",
    "\n",
    "It will typically resemble the structure of a program, but the details to make it actually run have not been fleshed out. \n",
    "\n",
    "Pseudocode is like when an artist quickly makes a rough sketch. Later the artist will go back and pencil/ink/paint over the sketch, adding lots of details that weren't there in the first draft. \n",
    "\n",
    "Critically, pseudocode contains a step by step description of _what_ needs to be done.  Sometimes it also includes a fair amount of detail on _how_ it should be done too. \n",
    "\n",
    "Pseudocode can be written in human language or in very Pythonic language.  Even when its written in a very English-like way, pseudocode may use programming concepts or Pythonic statements: e.g., defining a function that returns a value, and using if/else statements."
   ]
  },
  {
   "cell_type": "markdown",
   "metadata": {
    "deletable": false,
    "editable": false,
    "nbgrader": {
     "cell_type": "markdown",
     "checksum": "dbbdda51518dbf37e0807e5ff2de95b5",
     "grade": false,
     "grade_id": "cell-7a0e870d238d9847",
     "locked": true,
     "schema_version": 3,
     "solution": false
    }
   },
   "source": [
    "### Pseudocode Human Language\n",
    "\n",
    "Some pseudocode is written in human level language, in a way that sketches out the tasks and general control flow. \n",
    "\n",
    "This highly abstract pseudocode is often not specific to any particular programming language. "
   ]
  },
  {
   "cell_type": "markdown",
   "metadata": {
    "deletable": false,
    "editable": false,
    "nbgrader": {
     "cell_type": "markdown",
     "checksum": "3bc8842f327adb5f200a86e9342d517a",
     "grade": false,
     "grade_id": "cell-4ae58d69c00dc6dd",
     "locked": true,
     "schema_version": 3,
     "solution": false
    }
   },
   "source": [
    "```\n",
    "# PseudoCode for checking if a student got full credit on an assignment\n",
    "\n",
    "function that takes a student PID and score on assigment\n",
    "\n",
    "        if grade of student is equal to the maximum grade possible\n",
    "            make output True\n",
    "        otherwise\n",
    "            make output False\n",
    "\n",
    "    return variable storing either True or False\n",
    "```"
   ]
  },
  {
   "cell_type": "markdown",
   "metadata": {
    "deletable": false,
    "editable": false,
    "nbgrader": {
     "cell_type": "markdown",
     "checksum": "11cd073325e11744b77896b4043ff159",
     "grade": false,
     "grade_id": "cell-b927b4a1462ec5ce",
     "locked": true,
     "schema_version": 3,
     "solution": false
    }
   },
   "source": [
    "### Pseudocode in Python format\n",
    "\n",
    "You can also write pseudocode, that is much closer to Python (including Python syntax) but maintains more of a template / outline. \n",
    "\n",
    "Pseudocode like this is sometimes just a work-in-progress that is just not yet finished. \n",
    "\n",
    "Using the same example above...but making it closer to Python may look something like this:"
   ]
  },
  {
   "cell_type": "code",
   "execution_count": null,
   "metadata": {},
   "outputs": [],
   "source": [
    "# PseudoCode for a function to check if a student scored full credit\n",
    "def check_full_credit(score):\n",
    "    \n",
    "    if: # determine if grade is equal to maximum grade possible\n",
    "        output = True\n",
    "    else:\n",
    "        output = False\n",
    "   \n",
    "    return output"
   ]
  },
  {
   "cell_type": "markdown",
   "metadata": {},
   "source": [
    "Note that the above code is *not* finished. It's an outline. Maybe I couldn't quite remember/quickly think of the logic/code needed for the conditional, but I knew the other pieces right away. I wrote down what I knew and left a comment for myself so I could work to finish it."
   ]
  },
  {
   "cell_type": "markdown",
   "metadata": {
    "deletable": false,
    "editable": false,
    "nbgrader": {
     "cell_type": "markdown",
     "checksum": "21068e633672860a25e5975eb9e60e19",
     "grade": false,
     "grade_id": "cell-617cc3352a710125",
     "locked": true,
     "schema_version": 3,
     "solution": false
    }
   },
   "source": [
    "### Computation &  Algorithms\n",
    "\n",
    "Both computers and humans are good at some things, and bad at others. However, it tends to be different things that computers and humans are good at. \n",
    "\n",
    "Here is a list of possible tasks that a human and/or computer could try and do:\n",
    "\n",
    "- Given a list of 100K values, find the average and range of the list\n",
    "- Sort an array of randomly generated numbers from smallest to largest\n",
    "- Recognize the saddest part of a movie\n",
    "- Recall specific facts, like answering 'which day of the week was the 1st of June, 1997?'\n",
    "- Identify the likely country of origin of a person from their accent\n",
    "- Create a meme\n",
    "- Sort a list of 10,000 names alphabetically\n",
    "- Rank memes in order of how funny they are\n",
    "- Given two locations, figure out the best route to drive to get from one to another\n",
    "- Recognize the emotional state of a person\n",
    "- Flexibly change strategies based on cues in the environment\n",
    "- Write and perform a winning rap battle \n",
    "- Learn and be able to understand a human language\n",
    "- Learn and be able to understand a programming language\n",
    "- Play tic-tac-toe\n",
    "- Write a review of a movie\n",
    "- Play chess\n",
    "- Play PACMAN"
   ]
  },
  {
   "cell_type": "markdown",
   "metadata": {
    "deletable": false,
    "editable": false,
    "nbgrader": {
     "cell_type": "markdown",
     "checksum": "669430b3136e1c286e97fd3a978c1d8c",
     "grade": false,
     "grade_id": "cell-55fdc86b317c61cf",
     "locked": true,
     "schema_version": 3,
     "solution": false
    }
   },
   "source": [
    "### Instructions\n",
    "\n",
    "For each task above, we want to try and decide whether it is a task that computers would be better at, that humans would be better at, or if it would be a tie.\n",
    "\n",
    "In small groups (2 or 3 people, or on your own if groups are not possible/you're not doing this in coding lab directly), pick 3 or 4 examples from the list of tasks above, have a quick discussion about the task at hand and try to answer the question of who (computers and/or humans) this task would be easier for. \n",
    "\n",
    "For each task, try to imagine how you might try and do this in Python. You don't need to know how to write the actual code yet; you can use comments to describe the step.\n",
    "\n",
    "Use pseudocode to sketch out an outline of the procedure for a 'computer better' task. \n",
    "- If you think it is something computers can do well, your pseudocode should roughly cover the whole process.\n",
    "\n",
    "Note: as a rule of thumb, computers can perform (and are good at) anything we can write down a specified list of steps (aka an algorithm). \n",
    "\n",
    "So one way to approach this section is to think through if and how you would write an algorithm to complete each task.\n",
    "\n",
    "Below is an example, with an answer for the first listed task. You will be asked to sketch out your own example under that."
   ]
  },
  {
   "cell_type": "markdown",
   "metadata": {
    "deletable": false,
    "editable": false,
    "nbgrader": {
     "cell_type": "markdown",
     "checksum": "b9ca070a87bf53095cecd00e9f2bb56c",
     "grade": false,
     "grade_id": "cell-cfcc54776e2ff1d8",
     "locked": true,
     "schema_version": 3,
     "solution": false
    }
   },
   "source": [
    "#### Example: Given a list of 100K values, find the average and range of the list\n",
    "\n",
    "This is a task that is easier for computers because we can write down a clear set of steps to complete this task (we can write an algorithm). \n",
    "\n",
    "Humans would not be good at completing this task, as there are a lot of steps to complete, and it would be slow, and we might not have the memory to do it.  "
   ]
  },
  {
   "cell_type": "code",
   "execution_count": null,
   "metadata": {},
   "outputs": [],
   "source": [
    "# Pseudocode for list of value statistics\n",
    "def list_statistics():\n",
    "    \n",
    "    # Find the mean of the list of values. \n",
    "    pass\n",
    "    # To do so:\n",
    "        # Find the total sum of the list\n",
    "        # Find the number of elements in the list\n",
    "        # Divide the sum by the number of elements\n",
    "        \n",
    "    # Find the range of the list of values. \n",
    "    pass\n",
    "    # To do so:\n",
    "        # Find the maximum value of the list\n",
    "        # Find the minimum value of the list\n",
    "        # Calculate range by subtracting the max from the min for the array\n",
    "    \n",
    "    # Return the mean and range of the array\n",
    "    return None"
   ]
  },
  {
   "cell_type": "markdown",
   "metadata": {
    "deletable": false,
    "editable": false,
    "nbgrader": {
     "cell_type": "markdown",
     "checksum": "c42d398263c36f2151ce7debd9fdf161",
     "grade": false,
     "grade_id": "cell-e639baffb40dad26",
     "locked": true,
     "schema_version": 3,
     "solution": false
    }
   },
   "source": [
    "### Include sketch of (at least) one task\n",
    "\n",
    "After brainstorming, include a sketch of your pseudocode for at least one of the tasks you brainstormed about earlier:"
   ]
  },
  {
   "cell_type": "code",
   "execution_count": null,
   "metadata": {
    "deletable": false,
    "nbgrader": {
     "cell_type": "code",
     "checksum": "eee38bfa3745966b114f8dcd641ee5e3",
     "grade": true,
     "grade_id": "cell-94678eaf8fcf9483",
     "locked": false,
     "points": 0,
     "schema_version": 3,
     "solution": true
    }
   },
   "outputs": [],
   "source": [
    "# your code here\n",
    "raise NotImplementedError"
   ]
  },
  {
   "cell_type": "markdown",
   "metadata": {
    "deletable": false,
    "editable": false,
    "nbgrader": {
     "cell_type": "markdown",
     "checksum": "8c955cb135f69176e3ca477179d44a16",
     "grade": false,
     "grade_id": "cell-f7ccbf88f9481134",
     "locked": true,
     "schema_version": 3,
     "solution": false
    }
   },
   "source": [
    "## The End!\n",
    "\n",
    "This is the end of this Coding Lab!\n",
    "\n",
    "Be sure you've made a concerted effort to complete all the tasks specified in this lab. Then, go ahead and submit on datahub!"
   ]
  }
 ],
 "metadata": {
  "kernelspec": {
   "display_name": "Python 3 (ipykernel)",
   "language": "python",
   "name": "python3"
  },
  "language_info": {
   "codemirror_mode": {
    "name": "ipython",
    "version": 3
   },
   "file_extension": ".py",
   "mimetype": "text/x-python",
   "name": "python",
   "nbconvert_exporter": "python",
   "pygments_lexer": "ipython3",
   "version": "3.9.5"
  }
 },
 "nbformat": 4,
 "nbformat_minor": 2
}
